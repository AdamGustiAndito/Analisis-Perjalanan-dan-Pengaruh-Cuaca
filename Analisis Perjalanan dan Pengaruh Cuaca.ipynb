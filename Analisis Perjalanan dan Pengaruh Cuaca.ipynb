{
 "cells": [
  {
   "cell_type": "markdown",
   "metadata": {},
   "source": [
    "# Analisis Perjalanan dan Pengaruh Cuaca\n",
    "\n",
    "Sebuah perusahaan berbagi tumpangan (ride-sharing) baru yang diluncurkan di Chicago yang bernama Zuber ingin memahami pola perjalanan pada informasi yang tersedia. Perusahaan ingin mencari tahu preferensi penumpang dalam menggunakan layanan transportasi serta faktor eksternal pada perjalanan yaitu cuaca setempat. Untuk itu, perlunya menganalisis data dari kompetitor dan menguji hipotesis pengaruh cuaca terhadap frekuensi perjalanan."
   ]
  },
  {
   "attachments": {
    "Image%20%281%29.png": {
     "image/png": "[encoded data removed]"
    }
   },
   "cell_type": "markdown",
   "metadata": {},
   "source": [
    "Deskripsi data\n",
    "Database yang memuat informasi perjalanan taksi di Chicago:\n",
    "\n",
    "Tabel `neighborhoods`: data terkait wilayah di kota Chicago\n",
    "- name: nama wilayah\n",
    "- neighborhood_id: kode wilayah\n",
    "\n",
    "Tabel `cabs`: data terkait taksi\n",
    "- cab_id: kode kendaraan\n",
    "- vehicle_id: ID teknis kendaraan\n",
    "- company_name: nama perusahaan yang memiliki kendaraan\n",
    "\n",
    "Tabel `trips`: data terkait perjalanan\n",
    "- trip_id: kode perjalanan\n",
    "- cab_id: kode kendaraan yang beroperasi\n",
    "- start_ts: tanggal dan waktu perjalanan dimulai (waktu dibulatkan dalam satuan jam)\n",
    "- end_ts: tanggal dan waktu perjalanan berakhir (waktu dibulatkan dalam satuan jam)\n",
    "- duration_seconds: durasi perjalanan dalam satuan detik\n",
    "- distance_miles: jarak perjalanan dalam satuan mil\n",
    "- pickup_location_id: kode wilayah penjemputan\n",
    "- dropoff_location_id: kode wilayah pengantaran\n",
    "\n",
    "Tabel `weather_records`: data terkait cuaca\n",
    "- record_id: kode catatan cuaca\n",
    "- ts: tanggal dan waktu saat pencatatan cuaca dilakukan (waktu dibulatkan dalam satuan jam)\n",
    "- temperature: suhu saat pencatatan cuaca dilakukan\n",
    "- description: deskripsi singkat tentang kondisi cuaca, seperti \"light rain\" (hujan ringan) atau \"scattered clouds\" (berawan)\n",
    "\n",
    "### Skema Tabel\n",
    "![Image%20%281%29.png](attachment:Image%20%281%29.png)"
   ]
  },
  {
   "cell_type": "code",
   "execution_count": 1,
   "metadata": {},
   "outputs": [],
   "source": [
    "# Memuat semua library\n",
    "import pandas as pd\n",
    "import matplotlib.pyplot as plt\n",
    "import seaborn as sns\n",
    "\n",
    "from scipy import stats as st\n",
    "from sqlalchemy import create_engine\n",
    "\n",
    "import requests \n",
    "from bs4 import BeautifulSoup"
   ]
  },
  {
   "cell_type": "markdown",
   "metadata": {},
   "source": [
    "## Penguraian Data\n",
    "Pertama melakukan penguraian data dari website [Chicago Weather Records](https://practicum-content.s3.us-west-1.amazonaws.com/data-analyst-eng/moved_chicago_weather_2017.html). Nama DataFrame tersebut adalah weather_records dan harus menyebutkan secara spesifik saat mencarinya: attrs={\"id\": \"weather_records\"}"
   ]
  },
  {
   "cell_type": "code",
   "execution_count": 2,
   "metadata": {},
   "outputs": [
    {
     "name": "stdout",
     "output_type": "stream",
     "text": [
      "           Date and time Temperature       Description\n",
      "0    2017-11-01 00:00:00     276.150     broken clouds\n",
      "1    2017-11-01 01:00:00     275.700  scattered clouds\n",
      "2    2017-11-01 02:00:00     275.610   overcast clouds\n",
      "3    2017-11-01 03:00:00     275.350     broken clouds\n",
      "4    2017-11-01 04:00:00     275.240     broken clouds\n",
      "..                   ...         ...               ...\n",
      "692  2017-11-29 20:00:00     281.340        few clouds\n",
      "693  2017-11-29 21:00:00     281.690      sky is clear\n",
      "694  2017-11-29 22:00:00     281.070        few clouds\n",
      "695  2017-11-29 23:00:00     280.060      sky is clear\n",
      "696  2017-11-30 00:00:00     278.460      sky is clear\n",
      "\n",
      "[697 rows x 3 columns]\n"
     ]
    }
   ],
   "source": [
    "# mengirim permintaan ke server untuk mengurai situs web\n",
    "\n",
    "URL = 'https://practicum-content.s3.us-west-1.amazonaws.com/data-analyst-eng/moved_chicago_weather_2017.html'\n",
    "req = requests.get(URL)  # permintaan GET\n",
    "soup = BeautifulSoup(req.text, 'lxml')\n",
    "\n",
    "table = soup.find('table', attrs={\"id\": \"weather_records\"})\n",
    "\n",
    "heading = []\n",
    "for row in table.find_all('th'):\n",
    "    heading.append(row.text)\n",
    "\n",
    "content = []\n",
    "for row in table.find_all('tr'):\n",
    "    if not row.find_all('th'):\n",
    "        content.append([element.text for element in row.find_all('td')])\n",
    "    \n",
    "weather_records = pd.DataFrame(content, columns=heading)\n",
    "print(weather_records)"
   ]
  },
  {
   "attachments": {},
   "cell_type": "markdown",
   "metadata": {},
   "source": [
    "## Ekstrasi Data\n",
    "Sebenarnya ekstrasi data dari database melalui platform digital TripleTen. Namun, tetap menulis kueri di notebook sebagai dokumentasi proyek ini. "
   ]
  },
  {
   "cell_type": "markdown",
   "metadata": {},
   "source": [
    "### Langkah 1\n",
    "Tampilkan kolom company_name. Temukan jumlah perjalanan taksi untuk setiap perusahaan taksi pada tanggal 15-16 November 2017. Kemudian, namai kolom yang dihasilkan dengan trips_amount dan tampilkan juga kolom tersebut. Urutkan hasilnya berdasarkan kolom trips_amount secara menurun."
   ]
  },
  {
   "cell_type": "code",
   "execution_count": 3,
   "metadata": {},
   "outputs": [],
   "source": [
    "query = '''\n",
    "        SELECT cabs.company_name, COUNT(trips.trip_id) AS trips_amount\n",
    "        FROM cabs\n",
    "        JOIN trips ON cabs.cab_id = trips.cab_id\n",
    "        WHERE CAST(trips.start_ts as date) BETWEEN '2017-11-15' AND '2017-11-16'\n",
    "        GROUP BY cabs.company_name\n",
    "        ORDER BY trips_amount DESC;\n",
    "        '''"
   ]
  },
  {
   "cell_type": "markdown",
   "metadata": {},
   "source": [
    "### Langkah 2\n",
    "Temukan jumlah perjalanan untuk setiap perusahaan taksi yang namanya memiliki unsur kata \"Yellow\" atau \"Blue\" pada tanggal 1-7 November 2017. Namai variabel yang dihasilkan dengan trips_amount. Kelompokan hasilnya berdasarkan kolom company_name."
   ]
  },
  {
   "cell_type": "code",
   "execution_count": 4,
   "metadata": {},
   "outputs": [],
   "source": [
    "query = '''\n",
    "        SELECT cabs.company_name, COUNT(trips.trip_id) AS trips_amount\n",
    "        FROM cabs\n",
    "        JOIN trips ON cabs.cab_id = trips.cab_id\n",
    "        WHERE \n",
    "            (cabs.company_name LIKE '%Yellow%' OR cabs.company_name LIKE '%Blue%') AND\n",
    "            CAST(trips.start_ts as date) BETWEEN '2017-11-01' AND '2017-11-07'\n",
    "        GROUP BY cabs.company_name\n",
    "        ORDER BY trips_amount DESC;\n",
    "        '''"
   ]
  },
  {
   "cell_type": "markdown",
   "metadata": {},
   "source": [
    "### Langkah 3\n",
    "Untuk tanggal 1-7 November 2017, perusahaan taksi yang paling populer adalah Flash Cab dan Taxi Affiliation Services. Temukan jumlah perjalanan untuk kedua perusahaan dan namai variabel yang dihasilkan dengan trips_amount. Gabungkan perjalanan dari semua perusahaan lainnya dalam satu kelompok: \"Other\". Kelompokan data berdasarkan nama perusahaan taksi. Namai kolom yang memuat nama perusahaan taksi dengan company. Urutkan hasil yang kamu dapatkan secara menurun berdasarkan trips_amount."
   ]
  },
  {
   "cell_type": "code",
   "execution_count": 5,
   "metadata": {},
   "outputs": [],
   "source": [
    "query = '''\n",
    "        SELECT\n",
    "            CASE \n",
    "                WHEN company_name = 'Flash Cab' THEN 'Flash Cab' \n",
    "                WHEN company_name = 'Taxi Affiliation Services' THEN 'Taxi Affiliation Services' \n",
    "                ELSE 'Other' \n",
    "            END AS company,\n",
    "            COUNT(trips.trip_id) as trips_amount                \n",
    "        FROM \n",
    "            cabs\n",
    "        INNER JOIN \n",
    "            trips \n",
    "        ON \n",
    "            trips.cab_id = cabs.cab_id\n",
    "        WHERE \n",
    "            CAST(trips.start_ts AS date) BETWEEN '2017-11-01' AND '2017-11-07'\n",
    "        GROUP BY \n",
    "            company\n",
    "        ORDER BY \n",
    "            trips_amount DESC;\n",
    "        '''"
   ]
  },
  {
   "cell_type": "markdown",
   "metadata": {},
   "source": [
    "### Langkah 4\n",
    "Ambil data tentang ID wilayah O'Hare dan Loop dari tabel neighborhoods."
   ]
  },
  {
   "cell_type": "code",
   "execution_count": 6,
   "metadata": {},
   "outputs": [],
   "source": [
    "query = '''\n",
    "        SELECT neighborhood_id, name \n",
    "        FROM neighborhoods \n",
    "        WHERE name like '%Hare' or name like 'Loop'\n",
    "        '''"
   ]
  },
  {
   "cell_type": "markdown",
   "metadata": {},
   "source": [
    "### Langkah 5\n",
    "Untuk setiap jam, ambil catatan kondisi cuaca dari tabel weather_records. Dengan menggunakan operator CASE, bagi semua jam menjadi dua kelompok: Bad jika kolom description berisi kata rain atau storm, dan Good untuk sisanya yang tidak memuat kedua kata tersebut. Namai kolom yang dihasilkan dengan weather_conditions. Tabel akhir harus memuat dua kolom: tanggal dan jam (ts), serta weather_conditions."
   ]
  },
  {
   "cell_type": "code",
   "execution_count": 7,
   "metadata": {},
   "outputs": [],
   "source": [
    "query = '''\n",
    "        SELECT\n",
    "            ts,\n",
    "            case\n",
    "                when description like '%rain%' or description like '%storm%' then 'Bad'\n",
    "                else 'Good'\n",
    "            end as weather_conditions\n",
    "        FROM weather_records\n",
    "        ''' "
   ]
  },
  {
   "cell_type": "markdown",
   "metadata": {},
   "source": [
    "### Langkah 6\n",
    "Ambil dari tabel trips semua perjalanan yang dimulai di Loop (pickup_location_id: 50) pada hari Sabtu dan berakhir di O'Hare (dropoff_location_id: 63). Dapatkan kondisi cuaca untuk setiap perjalanan. Gunakan metode yang kamu terapkan di tugas sebelumnya. Serta, ambil juga durasi untuk setiap perjalanan. Abaikan perjalanan yang data kondisi cuacanya tidak tersedia. Kolom-kolom pada tabel seharusnya ditampilkan dalam urutan berikut:\n",
    "- start_ts\n",
    "- weather_conditions\n",
    "- duration_seconds\n",
    "- Urutkan berdasarkan trip_id."
   ]
  },
  {
   "cell_type": "code",
   "execution_count": 8,
   "metadata": {},
   "outputs": [],
   "source": [
    "query = '''\n",
    "        SELECT\n",
    "            start_ts,\n",
    "            T.weather_conditions,\n",
    "            duration_seconds\n",
    "        FROM \n",
    "            trips\n",
    "        INNER JOIN (\n",
    "            SELECT\n",
    "                ts,\n",
    "                CASE\n",
    "                    WHEN description LIKE '%rain%' OR description LIKE '%storm%' THEN 'Bad'\n",
    "                    ELSE 'Good'\n",
    "                END AS weather_conditions\n",
    "            FROM \n",
    "                weather_records          \n",
    "        ) T on T.ts = trips.start_ts\n",
    "        WHERE \n",
    "            pickup_location_id = 50 AND dropoff_location_id = 63 AND EXTRACT (DOW from trips.start_ts) = 6\n",
    "        ORDER BY trip_id\n",
    "        '''"
   ]
  },
  {
   "cell_type": "markdown",
   "metadata": {},
   "source": [
    "## Pra-pemrosesan Data\n",
    "Tahap ini melakukan pengamatan dan analisis terhadap data yang sudah didapatkan dari database. Namun, data-data tersebut perlu diolah lagi supaya analisis berjalan lancar. Seperti mengubah tipe data, dan sebagainya. Tahap ini akan menggunakan dua dataset yang memuat nama perusahaan kompetitor, jumlah perjalanan, lokasi pengantaran penumpang, dan rata-rata perjalanan yaitu sebagai berikut:\n",
    "\n",
    "`project_sql_result_01.csv` - memuat data berikut ini:\n",
    "- company_name: nama perusahaan taksi\n",
    "- trips_amount: jumlah perjalanan untuk setiap perusahaan taksi pada tanggal 15-16 November 2017.\n",
    "\n",
    "`project_sql_result_04.csv` - memuat data berikut ini:\n",
    "- dropoff_location_name: nama wilayah di Chicago tempat perjalanan berakhir\n",
    "- average_trips: jumlah rata-rata perjalanan yang berakhir di setiap wilayah pada bulan November 2017."
   ]
  },
  {
   "cell_type": "code",
   "execution_count": 9,
   "metadata": {},
   "outputs": [],
   "source": [
    "# Memuat dataset 1\n",
    "try:\n",
    "    df1 = pd.read_csv(\n",
    "        r'C:\\Users\\Adam\\OneDrive\\Course\\TripleTen\\Sprint 6\\moved_project_sql_result_01.csv', \n",
    "    )\n",
    "    \n",
    "except:\n",
    "    df1 = pd.read_csv(\n",
    "        '/datasets/moved_project_sql_result_01.csv'\n",
    "    )\n",
    "\n",
    "# Memuat dataset 2\n",
    "try:\n",
    "    df2 = pd.read_csv(\n",
    "        r'C:\\Users\\Adam\\OneDrive\\Course\\TripleTen\\Sprint 6\\moved_project_sql_result_04.csv', \n",
    "    )\n",
    "    \n",
    "except:\n",
    "    df2 = pd.read_csv(\n",
    "        '/datasets/moved_project_sql_result_04.csv'\n",
    "    )"
   ]
  },
  {
   "cell_type": "code",
   "execution_count": 10,
   "metadata": {},
   "outputs": [
    {
     "name": "stdout",
     "output_type": "stream",
     "text": [
      "<class 'pandas.core.frame.DataFrame'>\n",
      "RangeIndex: 64 entries, 0 to 63\n",
      "Data columns (total 2 columns):\n",
      " #   Column        Non-Null Count  Dtype \n",
      "---  ------        --------------  ----- \n",
      " 0   company_name  64 non-null     object\n",
      " 1   trips_amount  64 non-null     int64 \n",
      "dtypes: int64(1), object(1)\n",
      "memory usage: 1.1+ KB\n"
     ]
    }
   ],
   "source": [
    "# Menampilkan informasi umum data pertama\n",
    "df1.info()"
   ]
  },
  {
   "cell_type": "code",
   "execution_count": 11,
   "metadata": {},
   "outputs": [
    {
     "data": {
      "text/html": [
       "<div>\n",
       "<style scoped>\n",
       "    .dataframe tbody tr th:only-of-type {\n",
       "        vertical-align: middle;\n",
       "    }\n",
       "\n",
       "    .dataframe tbody tr th {\n",
       "        vertical-align: top;\n",
       "    }\n",
       "\n",
       "    .dataframe thead th {\n",
       "        text-align: right;\n",
       "    }\n",
       "</style>\n",
       "<table border=\"1\" class=\"dataframe\">\n",
       "  <thead>\n",
       "    <tr style=\"text-align: right;\">\n",
       "      <th></th>\n",
       "      <th>company_name</th>\n",
       "      <th>trips_amount</th>\n",
       "    </tr>\n",
       "  </thead>\n",
       "  <tbody>\n",
       "    <tr>\n",
       "      <th>63</th>\n",
       "      <td>3556 - 36214 RC Andrews Cab</td>\n",
       "      <td>2</td>\n",
       "    </tr>\n",
       "    <tr>\n",
       "      <th>54</th>\n",
       "      <td>2192 - 73487 Zeymane Corp</td>\n",
       "      <td>14</td>\n",
       "    </tr>\n",
       "    <tr>\n",
       "      <th>10</th>\n",
       "      <td>Choice Taxi Association</td>\n",
       "      <td>5015</td>\n",
       "    </tr>\n",
       "    <tr>\n",
       "      <th>43</th>\n",
       "      <td>2809 - 95474 C &amp; D Cab Co Inc.</td>\n",
       "      <td>29</td>\n",
       "    </tr>\n",
       "    <tr>\n",
       "      <th>46</th>\n",
       "      <td>3620 - 52292 David K. Cab Corp.</td>\n",
       "      <td>21</td>\n",
       "    </tr>\n",
       "    <tr>\n",
       "      <th>52</th>\n",
       "      <td>3721 - Santamaria Express, Alvaro Santamaria</td>\n",
       "      <td>14</td>\n",
       "    </tr>\n",
       "    <tr>\n",
       "      <th>4</th>\n",
       "      <td>Taxi Affiliation Service Yellow</td>\n",
       "      <td>9299</td>\n",
       "    </tr>\n",
       "    <tr>\n",
       "      <th>3</th>\n",
       "      <td>Yellow Cab</td>\n",
       "      <td>9888</td>\n",
       "    </tr>\n",
       "    <tr>\n",
       "      <th>22</th>\n",
       "      <td>Chicago Independents</td>\n",
       "      <td>1296</td>\n",
       "    </tr>\n",
       "    <tr>\n",
       "      <th>16</th>\n",
       "      <td>Blue Diamond</td>\n",
       "      <td>2070</td>\n",
       "    </tr>\n",
       "  </tbody>\n",
       "</table>\n",
       "</div>"
      ],
      "text/plain": [
       "                                    company_name  trips_amount\n",
       "63                   3556 - 36214 RC Andrews Cab             2\n",
       "54                     2192 - 73487 Zeymane Corp            14\n",
       "10                       Choice Taxi Association          5015\n",
       "43                2809 - 95474 C & D Cab Co Inc.            29\n",
       "46               3620 - 52292 David K. Cab Corp.            21\n",
       "52  3721 - Santamaria Express, Alvaro Santamaria            14\n",
       "4                Taxi Affiliation Service Yellow          9299\n",
       "3                                     Yellow Cab          9888\n",
       "22                          Chicago Independents          1296\n",
       "16                                  Blue Diamond          2070"
      ]
     },
     "execution_count": 11,
     "metadata": {},
     "output_type": "execute_result"
    }
   ],
   "source": [
    "# Menampilkan 10 sampel data pertama\n",
    "df1.sample(10)"
   ]
  },
  {
   "cell_type": "markdown",
   "metadata": {},
   "source": [
    "Pada dataset pertama, terdapat dua kolom yaitu kolom company_name yang memuat data perusahaan taksi dan trips_amount yang memuat jumlah perjalanan. Dataset ini hanya mengambil data pada tanggal 15-16 November 2017. Pada dataset tersebut tidak ditemukan nilai yang hilang dengan jumlah baris sebanyak 64 baris. Tipe data pada dataset juga tidak terdapat masalah."
   ]
  },
  {
   "cell_type": "code",
   "execution_count": 12,
   "metadata": {},
   "outputs": [
    {
     "name": "stdout",
     "output_type": "stream",
     "text": [
      "<class 'pandas.core.frame.DataFrame'>\n",
      "RangeIndex: 94 entries, 0 to 93\n",
      "Data columns (total 2 columns):\n",
      " #   Column                 Non-Null Count  Dtype  \n",
      "---  ------                 --------------  -----  \n",
      " 0   dropoff_location_name  94 non-null     object \n",
      " 1   average_trips          94 non-null     float64\n",
      "dtypes: float64(1), object(1)\n",
      "memory usage: 1.6+ KB\n"
     ]
    }
   ],
   "source": [
    "# Menampilkan informasi umum data kedua\n",
    "df2.info()"
   ]
  },
  {
   "cell_type": "code",
   "execution_count": 13,
   "metadata": {},
   "outputs": [
    {
     "data": {
      "text/html": [
       "<div>\n",
       "<style scoped>\n",
       "    .dataframe tbody tr th:only-of-type {\n",
       "        vertical-align: middle;\n",
       "    }\n",
       "\n",
       "    .dataframe tbody tr th {\n",
       "        vertical-align: top;\n",
       "    }\n",
       "\n",
       "    .dataframe thead th {\n",
       "        text-align: right;\n",
       "    }\n",
       "</style>\n",
       "<table border=\"1\" class=\"dataframe\">\n",
       "  <thead>\n",
       "    <tr style=\"text-align: right;\">\n",
       "      <th></th>\n",
       "      <th>dropoff_location_name</th>\n",
       "      <th>average_trips</th>\n",
       "    </tr>\n",
       "  </thead>\n",
       "  <tbody>\n",
       "    <tr>\n",
       "      <th>85</th>\n",
       "      <td>Montclare</td>\n",
       "      <td>5.766667</td>\n",
       "    </tr>\n",
       "    <tr>\n",
       "      <th>38</th>\n",
       "      <td>Armour Square</td>\n",
       "      <td>77.033333</td>\n",
       "    </tr>\n",
       "    <tr>\n",
       "      <th>4</th>\n",
       "      <td>O'Hare</td>\n",
       "      <td>2546.900000</td>\n",
       "    </tr>\n",
       "    <tr>\n",
       "      <th>33</th>\n",
       "      <td>Portage Park</td>\n",
       "      <td>119.733333</td>\n",
       "    </tr>\n",
       "    <tr>\n",
       "      <th>89</th>\n",
       "      <td>Mount Greenwood</td>\n",
       "      <td>3.137931</td>\n",
       "    </tr>\n",
       "    <tr>\n",
       "      <th>19</th>\n",
       "      <td>Old Town</td>\n",
       "      <td>469.566667</td>\n",
       "    </tr>\n",
       "    <tr>\n",
       "      <th>22</th>\n",
       "      <td>Lincoln Square</td>\n",
       "      <td>356.733333</td>\n",
       "    </tr>\n",
       "    <tr>\n",
       "      <th>47</th>\n",
       "      <td>Grand Boulevard</td>\n",
       "      <td>51.600000</td>\n",
       "    </tr>\n",
       "    <tr>\n",
       "      <th>5</th>\n",
       "      <td>Lake View</td>\n",
       "      <td>2420.966667</td>\n",
       "    </tr>\n",
       "    <tr>\n",
       "      <th>8</th>\n",
       "      <td>Gold Coast</td>\n",
       "      <td>1364.233333</td>\n",
       "    </tr>\n",
       "  </tbody>\n",
       "</table>\n",
       "</div>"
      ],
      "text/plain": [
       "   dropoff_location_name  average_trips\n",
       "85             Montclare       5.766667\n",
       "38         Armour Square      77.033333\n",
       "4                 O'Hare    2546.900000\n",
       "33          Portage Park     119.733333\n",
       "89       Mount Greenwood       3.137931\n",
       "19              Old Town     469.566667\n",
       "22        Lincoln Square     356.733333\n",
       "47       Grand Boulevard      51.600000\n",
       "5              Lake View    2420.966667\n",
       "8             Gold Coast    1364.233333"
      ]
     },
     "execution_count": 13,
     "metadata": {},
     "output_type": "execute_result"
    }
   ],
   "source": [
    "# Menampilkan 10 sampel data kedua\n",
    "df2.sample(10)"
   ]
  },
  {
   "cell_type": "markdown",
   "metadata": {},
   "source": [
    "Pada dataset kedua, mengandung 94 baris dengan dua kolom yaitu kolom dropoff_location_name yang mengandung lokasi pengantaran dan kolom average_trips mengandung jumlah rata-rata perjalanan tiap lokasi pengantaran pada bulan November 2017. Dua kolom pada dataset tidak ada yang hilang, namun nilai yang terkandung pada kolom average_trips terlihat sangat berantakan. Untuk itu, tipe data pada kolom average_trips akan diubah menjadi tipe data integer supaya mudah dilihat oleh semua orang."
   ]
  },
  {
   "cell_type": "code",
   "execution_count": 14,
   "metadata": {},
   "outputs": [],
   "source": [
    "# Memperbaiki hasil pada kolom average_trips\n",
    "df2['average_trips'] = df2['average_trips'].round().astype(int)"
   ]
  },
  {
   "cell_type": "code",
   "execution_count": 15,
   "metadata": {},
   "outputs": [
    {
     "data": {
      "text/html": [
       "<div>\n",
       "<style scoped>\n",
       "    .dataframe tbody tr th:only-of-type {\n",
       "        vertical-align: middle;\n",
       "    }\n",
       "\n",
       "    .dataframe tbody tr th {\n",
       "        vertical-align: top;\n",
       "    }\n",
       "\n",
       "    .dataframe thead th {\n",
       "        text-align: right;\n",
       "    }\n",
       "</style>\n",
       "<table border=\"1\" class=\"dataframe\">\n",
       "  <thead>\n",
       "    <tr style=\"text-align: right;\">\n",
       "      <th></th>\n",
       "      <th>dropoff_location_name</th>\n",
       "      <th>average_trips</th>\n",
       "    </tr>\n",
       "  </thead>\n",
       "  <tbody>\n",
       "    <tr>\n",
       "      <th>73</th>\n",
       "      <td>Chicago Lawn</td>\n",
       "      <td>12</td>\n",
       "    </tr>\n",
       "    <tr>\n",
       "      <th>55</th>\n",
       "      <td>Dunning</td>\n",
       "      <td>30</td>\n",
       "    </tr>\n",
       "    <tr>\n",
       "      <th>91</th>\n",
       "      <td>Burnside</td>\n",
       "      <td>2</td>\n",
       "    </tr>\n",
       "    <tr>\n",
       "      <th>32</th>\n",
       "      <td>Douglas</td>\n",
       "      <td>143</td>\n",
       "    </tr>\n",
       "    <tr>\n",
       "      <th>58</th>\n",
       "      <td>Englewood</td>\n",
       "      <td>25</td>\n",
       "    </tr>\n",
       "    <tr>\n",
       "      <th>13</th>\n",
       "      <td>Uptown</td>\n",
       "      <td>850</td>\n",
       "    </tr>\n",
       "    <tr>\n",
       "      <th>1</th>\n",
       "      <td>River North</td>\n",
       "      <td>9524</td>\n",
       "    </tr>\n",
       "    <tr>\n",
       "      <th>72</th>\n",
       "      <td>South Chicago</td>\n",
       "      <td>13</td>\n",
       "    </tr>\n",
       "    <tr>\n",
       "      <th>74</th>\n",
       "      <td>Beverly</td>\n",
       "      <td>10</td>\n",
       "    </tr>\n",
       "    <tr>\n",
       "      <th>47</th>\n",
       "      <td>Grand Boulevard</td>\n",
       "      <td>52</td>\n",
       "    </tr>\n",
       "  </tbody>\n",
       "</table>\n",
       "</div>"
      ],
      "text/plain": [
       "   dropoff_location_name  average_trips\n",
       "73          Chicago Lawn             12\n",
       "55               Dunning             30\n",
       "91              Burnside              2\n",
       "32               Douglas            143\n",
       "58             Englewood             25\n",
       "13                Uptown            850\n",
       "1            River North           9524\n",
       "72         South Chicago             13\n",
       "74               Beverly             10\n",
       "47       Grand Boulevard             52"
      ]
     },
     "execution_count": 15,
     "metadata": {},
     "output_type": "execute_result"
    }
   ],
   "source": [
    "# menampilkan 10 sampel data setelah perbaikan tipe data\n",
    "df2.sample(10)"
   ]
  },
  {
   "cell_type": "markdown",
   "metadata": {},
   "source": [
    "## Analisis Data Eksploratif\n",
    "Setelah perbaikan selesai, saatnya untuk mengamati data-data tersebut. Pertama-tama mencari tahu lokasi pengantaran favorit para penumpang. Kedua, mencari tahu perusahaan kompetitor yang paling diminati penumpang. Dengan pencarian 10 teratas lokasi pengantaran dan perusahaan kompetitor."
   ]
  },
  {
   "cell_type": "markdown",
   "metadata": {},
   "source": [
    "### Wilayah Drop-off Favorit"
   ]
  },
  {
   "cell_type": "code",
   "execution_count": 16,
   "metadata": {},
   "outputs": [
    {
     "data": {
      "text/html": [
       "<div>\n",
       "<style scoped>\n",
       "    .dataframe tbody tr th:only-of-type {\n",
       "        vertical-align: middle;\n",
       "    }\n",
       "\n",
       "    .dataframe tbody tr th {\n",
       "        vertical-align: top;\n",
       "    }\n",
       "\n",
       "    .dataframe thead th {\n",
       "        text-align: right;\n",
       "    }\n",
       "</style>\n",
       "<table border=\"1\" class=\"dataframe\">\n",
       "  <thead>\n",
       "    <tr style=\"text-align: right;\">\n",
       "      <th></th>\n",
       "      <th>dropoff_location_name</th>\n",
       "      <th>average_trips</th>\n",
       "    </tr>\n",
       "  </thead>\n",
       "  <tbody>\n",
       "    <tr>\n",
       "      <th>0</th>\n",
       "      <td>Loop</td>\n",
       "      <td>10727</td>\n",
       "    </tr>\n",
       "    <tr>\n",
       "      <th>1</th>\n",
       "      <td>River North</td>\n",
       "      <td>9524</td>\n",
       "    </tr>\n",
       "    <tr>\n",
       "      <th>2</th>\n",
       "      <td>Streeterville</td>\n",
       "      <td>6665</td>\n",
       "    </tr>\n",
       "    <tr>\n",
       "      <th>3</th>\n",
       "      <td>West Loop</td>\n",
       "      <td>5164</td>\n",
       "    </tr>\n",
       "    <tr>\n",
       "      <th>4</th>\n",
       "      <td>O'Hare</td>\n",
       "      <td>2547</td>\n",
       "    </tr>\n",
       "    <tr>\n",
       "      <th>5</th>\n",
       "      <td>Lake View</td>\n",
       "      <td>2421</td>\n",
       "    </tr>\n",
       "    <tr>\n",
       "      <th>6</th>\n",
       "      <td>Grant Park</td>\n",
       "      <td>2069</td>\n",
       "    </tr>\n",
       "    <tr>\n",
       "      <th>7</th>\n",
       "      <td>Museum Campus</td>\n",
       "      <td>1510</td>\n",
       "    </tr>\n",
       "    <tr>\n",
       "      <th>8</th>\n",
       "      <td>Gold Coast</td>\n",
       "      <td>1364</td>\n",
       "    </tr>\n",
       "    <tr>\n",
       "      <th>9</th>\n",
       "      <td>Sheffield &amp; DePaul</td>\n",
       "      <td>1260</td>\n",
       "    </tr>\n",
       "  </tbody>\n",
       "</table>\n",
       "</div>"
      ],
      "text/plain": [
       "  dropoff_location_name  average_trips\n",
       "0                  Loop          10727\n",
       "1           River North           9524\n",
       "2         Streeterville           6665\n",
       "3             West Loop           5164\n",
       "4                O'Hare           2547\n",
       "5             Lake View           2421\n",
       "6            Grant Park           2069\n",
       "7         Museum Campus           1510\n",
       "8            Gold Coast           1364\n",
       "9    Sheffield & DePaul           1260"
      ]
     },
     "execution_count": 16,
     "metadata": {},
     "output_type": "execute_result"
    }
   ],
   "source": [
    "# identifikasi titik pengantaran favorit\n",
    "top_dropoff = df2.sort_values('average_trips', ascending=False).head(10)\n",
    "top_dropoff"
   ]
  },
  {
   "cell_type": "code",
   "execution_count": 17,
   "metadata": {},
   "outputs": [
    {
     "data": {
      "image/png": "[encoded data removed]",
      "text/plain": [
       "<Figure size 1200x800 with 1 Axes>"
      ]
     },
     "metadata": {},
     "output_type": "display_data"
    }
   ],
   "source": [
    "# grafik titik pengantaran favorit\n",
    "plt.figure(figsize=(12,8))\n",
    "sns.barplot(data=top_dropoff, x='dropoff_location_name', y='average_trips', palette='coolwarm')\n",
    "plt.xlabel('Location')\n",
    "plt.ylabel('Average Trips')\n",
    "plt.title('Grafik Lokasi Pengantaran Teratas Bulan November 2017')\n",
    "plt.xticks(rotation=45, ha='right')\n",
    "plt.tight_layout()\n",
    "plt.show()"
   ]
  },
  {
   "cell_type": "markdown",
   "metadata": {},
   "source": [
    "Pada grafik di atas, wilayah Loop menjadi titik pengantaran yang paling banyak perjalanan yang dilakukan oleh masyarakat pada bulan November 2017. Dengan jumlah rata-rata perjalanan 10727. River North menjadi posisi kedua dan Streeterville menjadi posisi ketiga. Karena wilayah Loop terdapat rata-rata perjalanan paling tinggi, lebih baik jika meningkatkan dan memperbanyak pelayanan pada wilayah ini."
   ]
  },
  {
   "cell_type": "markdown",
   "metadata": {},
   "source": [
    "### Perusahaan Taksi Favorit"
   ]
  },
  {
   "cell_type": "code",
   "execution_count": 18,
   "metadata": {},
   "outputs": [
    {
     "data": {
      "text/html": [
       "<div>\n",
       "<style scoped>\n",
       "    .dataframe tbody tr th:only-of-type {\n",
       "        vertical-align: middle;\n",
       "    }\n",
       "\n",
       "    .dataframe tbody tr th {\n",
       "        vertical-align: top;\n",
       "    }\n",
       "\n",
       "    .dataframe thead th {\n",
       "        text-align: right;\n",
       "    }\n",
       "</style>\n",
       "<table border=\"1\" class=\"dataframe\">\n",
       "  <thead>\n",
       "    <tr style=\"text-align: right;\">\n",
       "      <th></th>\n",
       "      <th>company_name</th>\n",
       "      <th>trips_amount</th>\n",
       "    </tr>\n",
       "  </thead>\n",
       "  <tbody>\n",
       "    <tr>\n",
       "      <th>0</th>\n",
       "      <td>Flash Cab</td>\n",
       "      <td>19558</td>\n",
       "    </tr>\n",
       "    <tr>\n",
       "      <th>1</th>\n",
       "      <td>Taxi Affiliation Services</td>\n",
       "      <td>11422</td>\n",
       "    </tr>\n",
       "    <tr>\n",
       "      <th>2</th>\n",
       "      <td>Medallion Leasin</td>\n",
       "      <td>10367</td>\n",
       "    </tr>\n",
       "    <tr>\n",
       "      <th>3</th>\n",
       "      <td>Yellow Cab</td>\n",
       "      <td>9888</td>\n",
       "    </tr>\n",
       "    <tr>\n",
       "      <th>4</th>\n",
       "      <td>Taxi Affiliation Service Yellow</td>\n",
       "      <td>9299</td>\n",
       "    </tr>\n",
       "    <tr>\n",
       "      <th>5</th>\n",
       "      <td>Chicago Carriage Cab Corp</td>\n",
       "      <td>9181</td>\n",
       "    </tr>\n",
       "    <tr>\n",
       "      <th>6</th>\n",
       "      <td>City Service</td>\n",
       "      <td>8448</td>\n",
       "    </tr>\n",
       "    <tr>\n",
       "      <th>7</th>\n",
       "      <td>Sun Taxi</td>\n",
       "      <td>7701</td>\n",
       "    </tr>\n",
       "    <tr>\n",
       "      <th>8</th>\n",
       "      <td>Star North Management LLC</td>\n",
       "      <td>7455</td>\n",
       "    </tr>\n",
       "    <tr>\n",
       "      <th>9</th>\n",
       "      <td>Blue Ribbon Taxi Association Inc.</td>\n",
       "      <td>5953</td>\n",
       "    </tr>\n",
       "  </tbody>\n",
       "</table>\n",
       "</div>"
      ],
      "text/plain": [
       "                        company_name  trips_amount\n",
       "0                          Flash Cab         19558\n",
       "1          Taxi Affiliation Services         11422\n",
       "2                   Medallion Leasin         10367\n",
       "3                         Yellow Cab          9888\n",
       "4    Taxi Affiliation Service Yellow          9299\n",
       "5          Chicago Carriage Cab Corp          9181\n",
       "6                       City Service          8448\n",
       "7                           Sun Taxi          7701\n",
       "8          Star North Management LLC          7455\n",
       "9  Blue Ribbon Taxi Association Inc.          5953"
      ]
     },
     "execution_count": 18,
     "metadata": {},
     "output_type": "execute_result"
    }
   ],
   "source": [
    "# identifikasi perjalanan perusahaan taksi\n",
    "top_comp = df1.sort_values('trips_amount', ascending=False).head(10)\n",
    "top_comp"
   ]
  },
  {
   "cell_type": "code",
   "execution_count": 19,
   "metadata": {},
   "outputs": [
    {
     "data": {
      "image/png": "[encoded data removed]",
      "text/plain": [
       "<Figure size 1200x800 with 1 Axes>"
      ]
     },
     "metadata": {},
     "output_type": "display_data"
    }
   ],
   "source": [
    "# grafik perjalanan perusahaan taksi\n",
    "plt.figure(figsize=(12,8))\n",
    "sns.barplot(data=top_comp, x='company_name', y='trips_amount', palette='dark:salmon_r')\n",
    "plt.xlabel('Company')\n",
    "plt.ylabel('Amount Trips')\n",
    "plt.title('Grafik Total Perjalanan Taksi 15-16 November 2017')\n",
    "plt.xticks(rotation=45, ha='right')\n",
    "plt.tight_layout()\n",
    "plt.show()"
   ]
  },
  {
   "cell_type": "markdown",
   "metadata": {},
   "source": [
    "Pada grafik di atas dapat ditarik beberapa kesimpulan yaitu:\n",
    "- Perusahaan taksi Flash Cab menjadi perusahaan taksi yang paling banyak digunakan pada tanggal 15-16 November 2017 dengan total perjalanan 19558.\n",
    "- Perusahaan Flash Cab memiliki total perjalanan hampir dua kali lipat dari total perjalanan perusahaan Taxi Affiliation Services yang hanya mempunyai 11422 total perjalanan.\n",
    "- Perusahaan taksi seperti Flash Cab memiliki peran penting dalam industri transportasi di Chicago selama periode tersebut, dan mungkin memiliki basis pelanggan yang besar atau layanan yang diminati oleh penumpang."
   ]
  },
  {
   "cell_type": "markdown",
   "metadata": {},
   "source": [
    "## Analisis Data Statistik\n",
    "Tahap ini akan diuji hipotesis terhadap data yang memuat perjalanan dari wilayah Loop menuju Bandara Internasional O'hare. Pengambilan data berasal dari data perjalanan yaitu trips dan data cuaca yaitu weather_records berasal dari kueri terakhir. File ini memuat data perjalanan dari Loop ke Bandara Internasional O'Hare. Ingat, berikut adalah nilai kolom-kolom yang ada di tabel ini:\n",
    "- start_ts -- tanggal dan waktu penjemputan\n",
    "- weather_conditions -- kondisi cuaca saat perjalanan dimulai\n",
    "- duration_seconds -- durasi perjalanan dalam satuan detik"
   ]
  },
  {
   "cell_type": "markdown",
   "metadata": {},
   "source": [
    "### Pra-pemrosesan Data"
   ]
  },
  {
   "cell_type": "code",
   "execution_count": 20,
   "metadata": {},
   "outputs": [],
   "source": [
    "# Memuat dataset 1\n",
    "try:\n",
    "    df3 = pd.read_csv(\n",
    "        r'C:\\Users\\Adam\\OneDrive\\Course\\TripleTen\\Sprint 6\\moved_project_sql_result_07.csv', \n",
    "    )\n",
    "    \n",
    "except:\n",
    "    df3 = pd.read_csv(\n",
    "        '/datasets/moved_project_sql_result_07.csv'\n",
    "    )"
   ]
  },
  {
   "cell_type": "code",
   "execution_count": 21,
   "metadata": {},
   "outputs": [
    {
     "name": "stdout",
     "output_type": "stream",
     "text": [
      "<class 'pandas.core.frame.DataFrame'>\n",
      "RangeIndex: 1068 entries, 0 to 1067\n",
      "Data columns (total 3 columns):\n",
      " #   Column              Non-Null Count  Dtype  \n",
      "---  ------              --------------  -----  \n",
      " 0   start_ts            1068 non-null   object \n",
      " 1   weather_conditions  1068 non-null   object \n",
      " 2   duration_seconds    1068 non-null   float64\n",
      "dtypes: float64(1), object(2)\n",
      "memory usage: 25.2+ KB\n"
     ]
    }
   ],
   "source": [
    "# menampilkan informasi umum dataset\n",
    "df3.info()"
   ]
  },
  {
   "cell_type": "code",
   "execution_count": 22,
   "metadata": {},
   "outputs": [
    {
     "data": {
      "text/html": [
       "<div>\n",
       "<style scoped>\n",
       "    .dataframe tbody tr th:only-of-type {\n",
       "        vertical-align: middle;\n",
       "    }\n",
       "\n",
       "    .dataframe tbody tr th {\n",
       "        vertical-align: top;\n",
       "    }\n",
       "\n",
       "    .dataframe thead th {\n",
       "        text-align: right;\n",
       "    }\n",
       "</style>\n",
       "<table border=\"1\" class=\"dataframe\">\n",
       "  <thead>\n",
       "    <tr style=\"text-align: right;\">\n",
       "      <th></th>\n",
       "      <th>start_ts</th>\n",
       "      <th>weather_conditions</th>\n",
       "      <th>duration_seconds</th>\n",
       "    </tr>\n",
       "  </thead>\n",
       "  <tbody>\n",
       "    <tr>\n",
       "      <th>919</th>\n",
       "      <td>2017-11-04 06:00:00</td>\n",
       "      <td>Good</td>\n",
       "      <td>1519.0</td>\n",
       "    </tr>\n",
       "    <tr>\n",
       "      <th>166</th>\n",
       "      <td>2017-11-18 16:00:00</td>\n",
       "      <td>Bad</td>\n",
       "      <td>2340.0</td>\n",
       "    </tr>\n",
       "    <tr>\n",
       "      <th>924</th>\n",
       "      <td>2017-11-18 18:00:00</td>\n",
       "      <td>Good</td>\n",
       "      <td>1800.0</td>\n",
       "    </tr>\n",
       "    <tr>\n",
       "      <th>230</th>\n",
       "      <td>2017-11-11 09:00:00</td>\n",
       "      <td>Good</td>\n",
       "      <td>1380.0</td>\n",
       "    </tr>\n",
       "    <tr>\n",
       "      <th>991</th>\n",
       "      <td>2017-11-11 04:00:00</td>\n",
       "      <td>Good</td>\n",
       "      <td>1380.0</td>\n",
       "    </tr>\n",
       "    <tr>\n",
       "      <th>1025</th>\n",
       "      <td>2017-11-04 07:00:00</td>\n",
       "      <td>Good</td>\n",
       "      <td>1380.0</td>\n",
       "    </tr>\n",
       "    <tr>\n",
       "      <th>303</th>\n",
       "      <td>2017-11-18 14:00:00</td>\n",
       "      <td>Good</td>\n",
       "      <td>3780.0</td>\n",
       "    </tr>\n",
       "    <tr>\n",
       "      <th>258</th>\n",
       "      <td>2017-11-18 14:00:00</td>\n",
       "      <td>Good</td>\n",
       "      <td>2994.0</td>\n",
       "    </tr>\n",
       "    <tr>\n",
       "      <th>806</th>\n",
       "      <td>2017-11-11 09:00:00</td>\n",
       "      <td>Good</td>\n",
       "      <td>1359.0</td>\n",
       "    </tr>\n",
       "    <tr>\n",
       "      <th>387</th>\n",
       "      <td>2017-11-11 06:00:00</td>\n",
       "      <td>Good</td>\n",
       "      <td>1380.0</td>\n",
       "    </tr>\n",
       "  </tbody>\n",
       "</table>\n",
       "</div>"
      ],
      "text/plain": [
       "                 start_ts weather_conditions  duration_seconds\n",
       "919   2017-11-04 06:00:00               Good            1519.0\n",
       "166   2017-11-18 16:00:00                Bad            2340.0\n",
       "924   2017-11-18 18:00:00               Good            1800.0\n",
       "230   2017-11-11 09:00:00               Good            1380.0\n",
       "991   2017-11-11 04:00:00               Good            1380.0\n",
       "1025  2017-11-04 07:00:00               Good            1380.0\n",
       "303   2017-11-18 14:00:00               Good            3780.0\n",
       "258   2017-11-18 14:00:00               Good            2994.0\n",
       "806   2017-11-11 09:00:00               Good            1359.0\n",
       "387   2017-11-11 06:00:00               Good            1380.0"
      ]
     },
     "execution_count": 22,
     "metadata": {},
     "output_type": "execute_result"
    }
   ],
   "source": [
    "# menampilkan sampel dataset\n",
    "df3.sample(10)"
   ]
  },
  {
   "cell_type": "markdown",
   "metadata": {},
   "source": [
    "Pada dataset ini, terdapat 1068 baris yang utuh yang berarti tidak terdapat nilai yang hilang serta terdapat tiga kolom yaitu kolom start_ts yang memuat tanggal dan waktu perjalanan di hari Sabtu yang dibulatkan dalam satuan jam, kolom weather_conditions yang memuat kategori cuaca, dan kolom duration_seconds yang memuat durasi setiap perjalanan. \n",
    "\n",
    "Pada dataset tersebut, terdapat beberapa masalah seperti tipe data yang tidak sesuai pada kolom start_ts yang seharusnya tipe data datetime dan duration_seconds tipe data int. Untuk itu, sebelum dilakukan uji statistik, perlu diubah menjadi tipe data yang sesuai."
   ]
  },
  {
   "cell_type": "code",
   "execution_count": 23,
   "metadata": {},
   "outputs": [],
   "source": [
    "# memperbaiki tipe data pada dataset\n",
    "df3['start_ts'] = pd.to_datetime(df3['start_ts'])\n",
    "df3['duration_seconds'] = df3['duration_seconds'].astype(int)"
   ]
  },
  {
   "cell_type": "code",
   "execution_count": 24,
   "metadata": {},
   "outputs": [
    {
     "data": {
      "text/plain": [
       "start_ts              datetime64[ns]\n",
       "weather_conditions            object\n",
       "duration_seconds               int32\n",
       "dtype: object"
      ]
     },
     "execution_count": 24,
     "metadata": {},
     "output_type": "execute_result"
    }
   ],
   "source": [
    "# memeriksa tipe data \n",
    "df3.dtypes"
   ]
  },
  {
   "cell_type": "markdown",
   "metadata": {},
   "source": [
    "### Uji Hipotesis\n",
    "\n",
    "Uji hipotesis ini bertujuan untuk mencari tahu apakah durasi rata-rata perjalanan dari Loop ke Bandara Internasional O'Hare tidak berubah saat hujan di hari Sabtu. Pengujian statistik yang cocok untuk menguji hipotesis ini adalah independent two-sample t-test (uji t dua sampel independen), karena saat ini ingin membandingkan dua kelompok independen. Hipotesis yang diajukan adalah:\n",
    "- Hipotesis Nol (H0): Durasi rata-rata perjalanan dari Loop ke Bandara Internasional O'Hare tidak berubah saat hujan di hari Sabtu.\n",
    "- Hipotesis Alternatif (H1): Durasi rata-rata perjalanan dari Loop ke Bandara Internasional O'Hare berubah saat hujan di hari Sabtu.\n",
    "\n",
    "Dengan tingkat kepercayaan 95%, maka menggunakan alpha 5% = 0.05. Hipotesis Nol akan ditolak apabila alpha lebih besar dari uji statistik yaitu: Alpha > p_value"
   ]
  },
  {
   "cell_type": "code",
   "execution_count": 25,
   "metadata": {},
   "outputs": [],
   "source": [
    "# memisahkan data cuaca \n",
    "rain_df = df3.query('weather_conditions == \"Bad\"').reset_index()\n",
    "good_df = df3.query('weather_conditions == \"Good\"').reset_index()\n",
    "\n",
    "# batas alpha\n",
    "alpha = 0.05"
   ]
  },
  {
   "cell_type": "code",
   "execution_count": 26,
   "metadata": {},
   "outputs": [
    {
     "data": {
      "text/html": [
       "<div>\n",
       "<style scoped>\n",
       "    .dataframe tbody tr th:only-of-type {\n",
       "        vertical-align: middle;\n",
       "    }\n",
       "\n",
       "    .dataframe tbody tr th {\n",
       "        vertical-align: top;\n",
       "    }\n",
       "\n",
       "    .dataframe thead th {\n",
       "        text-align: right;\n",
       "    }\n",
       "</style>\n",
       "<table border=\"1\" class=\"dataframe\">\n",
       "  <thead>\n",
       "    <tr style=\"text-align: right;\">\n",
       "      <th></th>\n",
       "      <th>weather_conditions</th>\n",
       "      <th>duration_seconds</th>\n",
       "      <th>mean_minutes</th>\n",
       "    </tr>\n",
       "  </thead>\n",
       "  <tbody>\n",
       "    <tr>\n",
       "      <th>0</th>\n",
       "      <td>Bad</td>\n",
       "      <td>2427.205556</td>\n",
       "      <td>40</td>\n",
       "    </tr>\n",
       "    <tr>\n",
       "      <th>1</th>\n",
       "      <td>Good</td>\n",
       "      <td>1999.675676</td>\n",
       "      <td>33</td>\n",
       "    </tr>\n",
       "  </tbody>\n",
       "</table>\n",
       "</div>"
      ],
      "text/plain": [
       "  weather_conditions  duration_seconds  mean_minutes\n",
       "0                Bad       2427.205556            40\n",
       "1               Good       1999.675676            33"
      ]
     },
     "execution_count": 26,
     "metadata": {},
     "output_type": "execute_result"
    }
   ],
   "source": [
    "# menampilkan rata-rata durasi dari kedua data\n",
    "df3_mean = pd.pivot_table(df3, index='weather_conditions', values='duration_seconds', aggfunc='mean').reset_index()\n",
    "df3_mean['mean_minutes'] = round(df3_mean['duration_seconds'] / 60).astype(int)\n",
    "df3_mean"
   ]
  },
  {
   "cell_type": "markdown",
   "metadata": {},
   "source": [
    "Pada tabel di atas dapat diketahui bahwa rata-rata durasi perjalanan pada kondisi cuaca buruk memakan banyak waktu yaitu sekitar 40 menit, sedangkan untuk cuaca cerah mempunyai durasi perjalanan lebih singkat yaitu sekitar 33 menit."
   ]
  },
  {
   "cell_type": "markdown",
   "metadata": {},
   "source": [
    "Sebelum melakukan uji-t, lakukan uji homegenitas terlebih dahulu dengan hipotesis:\n",
    "- Hipotesis Nol (H0) : Varians dua sample sama.\n",
    "- Hipotesis Alternatif (H1) : Varians dua sample tidak sama."
   ]
  },
  {
   "cell_type": "code",
   "execution_count": 27,
   "metadata": {},
   "outputs": [
    {
     "data": {
      "text/plain": [
       "'Hipotesis nol diterima. Tidak terdapat perbedaan varians dari kedua sample'"
      ]
     },
     "execution_count": 27,
     "metadata": {},
     "output_type": "execute_result"
    }
   ],
   "source": [
    "# Uji homogenitas varians\n",
    "homogenitas = st.levene(rain_df['duration_seconds'], good_df['duration_seconds']).pvalue\n",
    "\n",
    "if homogenitas < alpha:\n",
    "    conclusion = \"Hipotesis nol ditolak. Terdapat perbedaan varians dari kedua sample\"\n",
    "else:\n",
    "    conclusion = \"Hipotesis nol diterima. Tidak terdapat perbedaan varians dari kedua sample\"\n",
    "conclusion"
   ]
  },
  {
   "cell_type": "code",
   "execution_count": 28,
   "metadata": {},
   "outputs": [
    {
     "data": {
      "text/plain": [
       "0.5332038671974493"
      ]
     },
     "execution_count": 28,
     "metadata": {},
     "output_type": "execute_result"
    }
   ],
   "source": [
    "# Menampilkan hasil uji homogenitas\n",
    "homogenitas"
   ]
  },
  {
   "cell_type": "markdown",
   "metadata": {},
   "source": [
    "Nilai uji homogenitas sebesar 53.3% dan hipotesis menunjukkan bahwa varians dari kedua sampel adalah sama."
   ]
  },
  {
   "cell_type": "code",
   "execution_count": 29,
   "metadata": {},
   "outputs": [
    {
     "data": {
      "text/plain": [
       "'Hipotesis nol ditolak. Terdapat perbedaan signifikan pada rata-rata durasi perjalanan.'"
      ]
     },
     "execution_count": 29,
     "metadata": {},
     "output_type": "execute_result"
    }
   ],
   "source": [
    "# Uji t-test\n",
    "p_value = st.ttest_ind(rain_df['duration_seconds'], good_df['duration_seconds']).pvalue\n",
    "\n",
    "# Bandingkan nilai p dengan alpha\n",
    "if p_value < alpha:\n",
    "    conclusion = \"Hipotesis nol ditolak. Terdapat perbedaan signifikan pada rata-rata durasi perjalanan.\"\n",
    "else:\n",
    "    conclusion = \"Hipotesis nol diterima. Tidak ada perbedaan signifikan pada rata-rata durasi perjalanan.\"\n",
    "\n",
    "conclusion"
   ]
  },
  {
   "cell_type": "code",
   "execution_count": 30,
   "metadata": {},
   "outputs": [
    {
     "data": {
      "text/plain": [
       "6.517970327099473e-12"
      ]
     },
     "execution_count": 30,
     "metadata": {},
     "output_type": "execute_result"
    }
   ],
   "source": [
    "# Menampilkan hasil uji-t\n",
    "p_value"
   ]
  },
  {
   "cell_type": "markdown",
   "metadata": {},
   "source": [
    "Karena nilai uji statistik lebih kecil dari alpha, maka hipotesis nol ditolak. Hal ini membuktikan bahwa terdapat perbedaan yang signifikan dalam durasi rata-rata perjalanan antara perjalanan dari Loop ke Bandara Internasional O'Hare saat hujan dan saat kondisi cuaca cerah di hari Sabtu. Artinya, cuaca memiliki pengaruh yang signifikan terhadap durasi perjalanan, dengan durasi perjalanan cenderung lebih lama saat hujan."
   ]
  },
  {
   "cell_type": "markdown",
   "metadata": {},
   "source": [
    "## Kesimpulan\n",
    "\n",
    "Kesimpulan dari analisis ini yaitu:\n",
    "- Loop adalah wilayah yang paling banyak menjadi tujuan perjalanan pada bulan November 2017, dengan rata-rata perjalanan sekitar 10,727. Ini menunjukkan bahwa Loop adalah wilayah yang sangat diminati oleh masyarakat untuk perjalanan taksi, dan ada potensi menguntungkan bila meningkatkan layanan di wilayah ini.\n",
    "- Flash Cab adalah perusahaan taksi yang paling banyak digunakan selama periode tersebut, dengan total perjalanan mencapai 19,558. Fakta bahwa Flash Cab memiliki jumlah perjalanan hampir dua kali lipat dari perusahaan taksi lain menunjukkan popularitasnya di Chicago selama tanggal 15-16 November 2017.\n",
    "- Analisis terhadap cuaca menunjukkan bahwa durasi rata-rata perjalanan lebih lama sekitar 40 menit saat cuaca buruk dibandingkan dengan cuaca cerah sekitar 33 menit. Hasil uji statistik juga menegaskan bahwa perbedaan ini signifikan secara statistik. Dengan kata lain, cuaca memiliki pengaruh yang nyata terhadap durasi perjalanan, dengan perjalanan cenderung lebih lama saat hujan di hari Sabtu.\n",
    "\n",
    "## Rekomendasi Bisnis\n",
    "Dengan beberapa kesimpulan di atas, Zuber dapat:\n",
    "- Dengan memfokuskan pengembangan dan peningkatan layanan di wilayah Loop—yang memiliki permintaan tertinggi—Zuber dapat menarik lebih banyak pelanggan, terutama pada hari Sabtu.\n",
    "- Pengaruh cuaca terhadap durasi perjalanan memberikan peluang bagi Zuber untuk membedakan diri dengan layanan yang lebih responsif dan andal pada hari-hari dengan cuaca buruk, mengatasi kendala yang mungkin dialami oleh kompetitor seperti Flash Cab."
   ]
  }
 ],
 "metadata": {
  "kernelspec": {
   "display_name": "Python 3 (ipykernel)",
   "language": "python",
   "name": "python3"
  },
  "language_info": {
   "codemirror_mode": {
    "name": "ipython",
    "version": 3
   },
   "file_extension": ".py",
   "mimetype": "text/x-python",
   "name": "python",
   "nbconvert_exporter": "python",
   "pygments_lexer": "ipython3",
   "version": "3.10.9"
  },
  "toc": {
   "base_numbering": 1,
   "nav_menu": {},
   "number_sections": true,
   "sideBar": true,
   "skip_h1_title": true,
   "title_cell": "Table of Contents",
   "title_sidebar": "Contents",
   "toc_cell": false,
   "toc_position": {},
   "toc_section_display": true,
   "toc_window_display": false
  }
 },
 "nbformat": 4,
 "nbformat_minor": 2
}
